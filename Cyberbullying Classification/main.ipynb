{
  "cells": [
    {
      "cell_type": "markdown",
      "metadata": {
        "id": "Tfx69BLTnfPp"
      },
      "source": [
        "# Cyberbullying classification\n",
        "\n",
        "goal: Classifiy whether the text is considered 6 different classes of cyber bullying or not\n",
        "\n",
        "data taken from https://www.kaggle.com/andrewmvd/cyberbullying-classification"
      ]
    },
    {
      "cell_type": "code",
      "execution_count": 2,
      "metadata": {
        "colab": {
          "base_uri": "https://localhost:8080/"
        },
        "id": "GGDrY_3nnfPs",
        "outputId": "d0a6021e-8acc-459b-9cc3-9896273307d3"
      },
      "outputs": [
        {
          "name": "stdout",
          "output_type": "stream",
          "text": [
            "Version:  2.8.0\n",
            "Eager mode:  True\n",
            "Hub version:  0.12.0\n",
            "GPU is NOT AVAILABLE\n"
          ]
        }
      ],
      "source": [
        "import numpy as np\n",
        "import pandas as pd\n",
        "\n",
        "import tensorflow as tf\n",
        "import tensorflow_hub as hub\n",
        "\n",
        "from sklearn.model_selection import train_test_split\n",
        "\n",
        "import matplotlib.pyplot as plt\n",
        "\n",
        "print(\"Version: \", tf.__version__)\n",
        "print(\"Eager mode: \", tf.executing_eagerly())\n",
        "print(\"Hub version: \", hub.__version__)\n",
        "print(\"GPU is\", \"available\" if tf.config.list_physical_devices('GPU') else \"NOT AVAILABLE\")"
      ]
    },
    {
      "cell_type": "code",
      "execution_count": 2,
      "metadata": {
        "colab": {
          "base_uri": "https://localhost:8080/",
          "height": 206
        },
        "id": "-3dk_zDbnfPt",
        "outputId": "643ae5a5-898a-44c4-8d45-e8d5a1c1c37a"
      },
      "outputs": [
        {
          "data": {
            "text/html": [
              "<div>\n",
              "<style scoped>\n",
              "    .dataframe tbody tr th:only-of-type {\n",
              "        vertical-align: middle;\n",
              "    }\n",
              "\n",
              "    .dataframe tbody tr th {\n",
              "        vertical-align: top;\n",
              "    }\n",
              "\n",
              "    .dataframe thead th {\n",
              "        text-align: right;\n",
              "    }\n",
              "</style>\n",
              "<table border=\"1\" class=\"dataframe\">\n",
              "  <thead>\n",
              "    <tr style=\"text-align: right;\">\n",
              "      <th></th>\n",
              "      <th>tweet_text</th>\n",
              "      <th>cyberbullying_type</th>\n",
              "    </tr>\n",
              "  </thead>\n",
              "  <tbody>\n",
              "    <tr>\n",
              "      <th>0</th>\n",
              "      <td>In other words #katandandre, your food was cra...</td>\n",
              "      <td>not_cyberbullying</td>\n",
              "    </tr>\n",
              "    <tr>\n",
              "      <th>1</th>\n",
              "      <td>Why is #aussietv so white? #MKR #theblock #ImA...</td>\n",
              "      <td>not_cyberbullying</td>\n",
              "    </tr>\n",
              "    <tr>\n",
              "      <th>2</th>\n",
              "      <td>@XochitlSuckkks a classy whore? Or more red ve...</td>\n",
              "      <td>not_cyberbullying</td>\n",
              "    </tr>\n",
              "    <tr>\n",
              "      <th>3</th>\n",
              "      <td>@Jason_Gio meh. :P  thanks for the heads up, b...</td>\n",
              "      <td>not_cyberbullying</td>\n",
              "    </tr>\n",
              "    <tr>\n",
              "      <th>4</th>\n",
              "      <td>@RudhoeEnglish This is an ISIS account pretend...</td>\n",
              "      <td>not_cyberbullying</td>\n",
              "    </tr>\n",
              "  </tbody>\n",
              "</table>\n",
              "</div>"
            ],
            "text/plain": [
              "                                          tweet_text cyberbullying_type\n",
              "0  In other words #katandandre, your food was cra...  not_cyberbullying\n",
              "1  Why is #aussietv so white? #MKR #theblock #ImA...  not_cyberbullying\n",
              "2  @XochitlSuckkks a classy whore? Or more red ve...  not_cyberbullying\n",
              "3  @Jason_Gio meh. :P  thanks for the heads up, b...  not_cyberbullying\n",
              "4  @RudhoeEnglish This is an ISIS account pretend...  not_cyberbullying"
            ]
          },
          "execution_count": 2,
          "metadata": {},
          "output_type": "execute_result"
        }
      ],
      "source": [
        "df = pd.read_csv(\"cyberbullying_tweets.csv\")\n",
        "df.head()"
      ]
    },
    {
      "cell_type": "markdown",
      "metadata": {
        "id": "VVVafnqQnfPu"
      },
      "source": [
        "1 means the text is not considered cyber bullying. \n",
        "0 means the text is not considered cyber bullying"
      ]
    },
    {
      "cell_type": "code",
      "execution_count": 3,
      "metadata": {
        "colab": {
          "base_uri": "https://localhost:8080/"
        },
        "id": "Sr7BK097nfPv",
        "outputId": "a8749f5b-ce43-4a76-962c-6adaf965c6d6"
      },
      "outputs": [
        {
          "data": {
            "text/plain": [
              "1    39747\n",
              "0     7945\n",
              "Name: cyberbullying_type, dtype: int64"
            ]
          },
          "execution_count": 3,
          "metadata": {},
          "output_type": "execute_result"
        }
      ],
      "source": [
        "df[\"cyberbullying_type\"] = df[\"cyberbullying_type\"].replace([\"religion\", \"age\", \"gender\", \"ethnicity\", \"other_cyberbullying\"], 1)\n",
        "df[\"cyberbullying_type\"] = df[\"cyberbullying_type\"].replace([\"not_cyberbullying\"], 0)\n",
        "df[\"cyberbullying_type\"].value_counts()"
      ]
    },
    {
      "cell_type": "code",
      "execution_count": 4,
      "metadata": {
        "id": "tlcmsdHtnfPw"
      },
      "outputs": [],
      "source": [
        "train, test = train_test_split(df, test_size=0.2)\n",
        "\n",
        "train_examples, train_labels = train[\"tweet_text\"], train[\"cyberbullying_type\"]\n",
        "test_examples, text_labels = test[\"tweet_text\"], test[\"cyberbullying_type\"]"
      ]
    },
    {
      "cell_type": "code",
      "execution_count": 5,
      "metadata": {
        "colab": {
          "base_uri": "https://localhost:8080/"
        },
        "id": "1zcUpx33nfPw",
        "outputId": "039308b9-1761-4da8-9154-e3be57109d4c"
      },
      "outputs": [
        {
          "name": "stdout",
          "output_type": "stream",
          "text": [
            "Training entries: 38153, test entries: 9539\n"
          ]
        }
      ],
      "source": [
        "print(\"Training entries: {}, test entries: {}\".format(len(train_examples), len(test_examples)))"
      ]
    },
    {
      "cell_type": "code",
      "execution_count": 6,
      "metadata": {
        "colab": {
          "base_uri": "https://localhost:8080/"
        },
        "id": "_KIl-nKxnfPx",
        "outputId": "5eb5c7f6-2487-4dc0-b971-574e4921bd87"
      },
      "outputs": [
        {
          "data": {
            "text/plain": [
              "<tf.Tensor: shape=(3, 128), dtype=float32, numpy=\n",
              "array([[ 1.00577228e-01,  9.50349774e-03, -5.09516941e-03,\n",
              "         5.11213392e-02,  2.07470298e-01, -1.31973242e-02,\n",
              "         2.48375759e-02, -5.72604723e-02, -1.39509752e-01,\n",
              "         4.69083413e-02, -8.13105628e-02, -1.82630762e-01,\n",
              "         6.65813237e-02, -4.66223508e-02,  8.43232572e-02,\n",
              "         1.62773147e-01,  3.18724401e-02, -1.61198258e-01,\n",
              "        -4.01418731e-02,  1.74440116e-01, -7.86616281e-02,\n",
              "        -1.33894458e-01,  6.60317810e-03,  8.31400380e-02,\n",
              "         3.69181484e-02, -1.66967183e-01,  2.91453023e-02,\n",
              "         5.16837649e-02, -1.58890501e-01, -7.04898089e-02,\n",
              "        -3.96677367e-02,  3.66322473e-02, -7.60932863e-02,\n",
              "         1.76979050e-01,  1.63362235e-01, -3.85591835e-02,\n",
              "        -1.14648439e-01,  1.02881812e-01,  1.57736495e-01,\n",
              "         1.23382293e-01, -1.98601767e-01, -1.49433345e-01,\n",
              "        -1.13713987e-01, -1.90862149e-01,  1.40056238e-01,\n",
              "         1.08100362e-01,  2.82695815e-02, -2.61435807e-02,\n",
              "        -4.00114618e-02,  4.23086770e-02, -3.90757360e-02,\n",
              "         8.04470852e-02, -1.78290114e-01,  1.41871665e-02,\n",
              "        -1.15092129e-01, -1.24820307e-01, -9.69384536e-02,\n",
              "        -9.20006633e-02, -9.08878222e-02, -1.09700724e-01,\n",
              "        -1.42690465e-01, -1.13243245e-01,  1.99631974e-01,\n",
              "        -4.87038977e-02, -8.68270826e-03,  1.73946412e-03,\n",
              "         6.03751689e-02, -3.38016413e-02,  4.42583933e-02,\n",
              "        -5.12271263e-02, -1.82636395e-01,  1.48282260e-01,\n",
              "        -8.59313011e-02, -2.70900875e-02,  2.31594548e-01,\n",
              "        -3.00792195e-02,  1.72125727e-01, -2.13951483e-01,\n",
              "        -3.03218551e-02,  1.17078729e-01,  1.34622827e-01,\n",
              "         9.93056074e-02,  2.00422015e-02,  2.26966254e-02,\n",
              "        -1.10408902e-01,  1.08788997e-01, -2.31534988e-01,\n",
              "         5.32240197e-02,  1.21461920e-01,  6.54225796e-02,\n",
              "        -8.58121961e-02,  9.44379196e-02,  1.51666105e-01,\n",
              "        -1.22963183e-01,  1.19115897e-01,  2.06582978e-01,\n",
              "         4.38570417e-02,  8.44561234e-02,  1.08281069e-01,\n",
              "         5.26570827e-02,  1.85609952e-01, -3.19037326e-02,\n",
              "         1.15500905e-01, -9.48463455e-02, -1.43967336e-02,\n",
              "        -9.24053863e-02, -1.66244030e-01, -3.38508561e-02,\n",
              "        -1.14803731e-01, -1.31651461e-01, -9.35016200e-02,\n",
              "         2.33732983e-02, -1.72429189e-01,  1.43638939e-01,\n",
              "        -2.94379685e-02, -9.01389867e-02, -9.80962217e-02,\n",
              "        -6.13635755e-04, -1.97284356e-01,  4.06422913e-02,\n",
              "         7.37843215e-02,  1.24367140e-02,  1.67746782e-01,\n",
              "         2.73190379e-01, -2.04245709e-02, -2.41287649e-01,\n",
              "         1.70236453e-01, -2.71458238e-01],\n",
              "       [ 4.89833146e-01, -6.65490553e-02,  1.32438064e-01,\n",
              "        -5.74724488e-02,  1.77457426e-02, -1.98602989e-01,\n",
              "        -1.01515725e-01, -1.95503086e-01, -2.11330131e-01,\n",
              "        -2.93764211e-02,  8.24791268e-02,  2.15731468e-02,\n",
              "        -2.23588929e-01, -1.31727263e-01, -7.02034077e-03,\n",
              "         8.65256861e-02, -1.62058115e-01, -3.42193991e-02,\n",
              "        -1.37121841e-01,  3.52045327e-01, -2.06877738e-01,\n",
              "        -1.03892967e-01,  4.84726764e-02, -1.18878424e-01,\n",
              "         2.13450491e-02, -1.06407925e-01,  1.13353707e-01,\n",
              "         4.28038882e-03, -1.74101572e-02, -1.03717662e-01,\n",
              "         6.62818477e-02,  3.84991765e-02,  1.19412340e-01,\n",
              "        -6.50846884e-02, -8.35124031e-02, -2.03138202e-01,\n",
              "         1.78006142e-02,  9.94458795e-03, -1.16541525e-02,\n",
              "         1.62742674e-01, -2.38442961e-02, -6.12607040e-03,\n",
              "        -2.47150823e-01, -1.32560775e-01,  4.22115661e-02,\n",
              "        -1.81834415e-01, -2.16391578e-01, -3.24912369e-01,\n",
              "        -1.19765125e-01, -1.05529130e-01, -5.45964986e-02,\n",
              "        -9.74116251e-02,  3.96379352e-01,  1.04570575e-01,\n",
              "        -3.72548820e-03, -3.11300857e-03,  4.00104448e-02,\n",
              "        -1.05141744e-01, -5.20773493e-02,  3.32123525e-02,\n",
              "        -1.50798649e-01, -5.11837527e-02, -1.49867326e-01,\n",
              "        -1.46835446e-02,  7.89109617e-03, -1.23538658e-01,\n",
              "         3.47718149e-02, -1.74605757e-01,  1.91811875e-01,\n",
              "         1.14117660e-01,  2.68414058e-02, -4.01147939e-02,\n",
              "        -1.44147649e-02, -6.67801052e-02,  2.93670207e-01,\n",
              "        -9.17789191e-02,  1.40138015e-01, -1.65614486e-02,\n",
              "        -1.34020433e-01,  4.64512222e-02,  1.62843205e-02,\n",
              "         3.38076316e-02, -9.52853486e-02, -1.62679717e-01,\n",
              "        -1.31043792e-01, -2.80428343e-02, -7.21476600e-02,\n",
              "         3.19400668e-01,  2.70686865e-01,  6.99154735e-02,\n",
              "        -1.72249705e-01,  3.12303364e-01,  1.40614752e-02,\n",
              "         2.29075938e-01,  4.31652274e-03,  8.17884430e-02,\n",
              "         1.22463994e-01, -5.09565435e-02, -2.34310925e-01,\n",
              "         1.43583313e-01,  2.65847966e-02,  9.19487625e-02,\n",
              "         8.82766396e-02,  6.19283468e-02,  6.28104433e-02,\n",
              "         6.55942559e-02, -7.63358250e-02,  1.44646525e-01,\n",
              "        -1.89559132e-01, -2.34059636e-02, -2.45477244e-01,\n",
              "        -2.50306055e-02, -8.88252109e-02, -4.13947031e-02,\n",
              "         4.48524356e-02, -1.16486676e-01,  1.41880915e-01,\n",
              "        -8.41505900e-02,  1.07248656e-01,  1.44528210e-01,\n",
              "         1.62303641e-01,  4.37302934e-03,  4.43017781e-02,\n",
              "         1.98233411e-01, -8.82186964e-02,  1.63551986e-01,\n",
              "        -1.77931960e-03,  1.18327001e-02],\n",
              "       [ 3.06513280e-01, -4.06191945e-02, -6.52747825e-02,\n",
              "        -1.03496984e-02,  2.06547648e-01, -2.57195592e-01,\n",
              "        -5.63967181e-03, -2.59288937e-01, -4.10917960e-02,\n",
              "        -1.05648555e-01,  1.30011186e-01, -4.73662876e-02,\n",
              "        -2.96703521e-02, -1.64895430e-01,  5.57251275e-02,\n",
              "         2.36734170e-02, -4.33300175e-02, -1.05007797e-01,\n",
              "        -1.42313957e-01, -6.54052496e-02, -9.74119529e-02,\n",
              "        -4.07520011e-02,  8.24691206e-02, -9.96993780e-02,\n",
              "         5.57239493e-03,  1.60717294e-02, -2.44363379e-02,\n",
              "         4.09414060e-03, -2.23998547e-01,  1.19492635e-01,\n",
              "        -8.09431747e-02,  1.54365763e-01,  6.77146539e-02,\n",
              "        -5.41170426e-02,  1.17072510e-02,  5.11759967e-02,\n",
              "        -1.41247511e-01, -5.07448058e-05,  1.31015778e-01,\n",
              "         1.30537882e-01, -2.35611014e-02, -1.13213122e-01,\n",
              "        -1.04312979e-01, -2.73432523e-01,  1.80933252e-02,\n",
              "        -4.10070736e-03,  1.75812487e-02,  9.46413260e-03,\n",
              "        -8.78017917e-02, -1.52228668e-01, -6.02346659e-02,\n",
              "         2.15442911e-01, -9.07442644e-02,  8.65584146e-03,\n",
              "        -2.32501879e-01,  4.89387736e-02, -2.36402139e-01,\n",
              "         2.29025930e-02, -4.19687666e-02, -7.96864629e-02,\n",
              "        -1.13303497e-01,  3.60669047e-02, -3.15100551e-02,\n",
              "         9.78199840e-02,  2.92143952e-02, -7.22825676e-02,\n",
              "         2.79945415e-02, -1.59707800e-01,  8.73783324e-03,\n",
              "         6.97249360e-03, -1.43031225e-01,  7.99526572e-02,\n",
              "         1.10251464e-01,  1.08752668e-01,  1.46119028e-01,\n",
              "        -1.03977479e-01,  7.91556984e-02, -2.41985828e-01,\n",
              "        -1.54622540e-01,  1.02320902e-01,  2.01343875e-02,\n",
              "        -7.07622850e-03, -1.84393734e-01, -3.44259776e-02,\n",
              "        -6.26673773e-02, -5.07049002e-02, -2.25798652e-01,\n",
              "         6.43056631e-02,  4.18259472e-01,  4.61521223e-02,\n",
              "        -2.08826080e-01,  1.02714650e-01, -3.18557397e-02,\n",
              "        -1.40204310e-01, -8.96268412e-02,  1.41042799e-01,\n",
              "        -7.95927458e-03,  1.01471961e-01, -3.08877409e-01,\n",
              "        -2.20678329e-01,  1.40888676e-01, -1.27319455e-01,\n",
              "         2.41628379e-01, -8.08437988e-02, -3.62524092e-02,\n",
              "         8.00851882e-02, -1.90688133e-01,  9.01377723e-02,\n",
              "        -1.42254889e-01,  3.28351259e-02, -3.69361639e-01,\n",
              "        -3.30187418e-02, -1.60235107e-01,  5.95916389e-03,\n",
              "        -2.11231578e-02, -7.88280070e-02, -1.20293863e-01,\n",
              "         6.19328395e-02,  4.95351441e-02, -6.17399737e-02,\n",
              "         1.89396366e-01, -4.58934344e-02,  5.39563000e-02,\n",
              "         1.30187035e-01, -6.67540058e-02,  3.20923664e-02,\n",
              "        -1.51720315e-01, -1.12732336e-01]], dtype=float32)>"
            ]
          },
          "execution_count": 6,
          "metadata": {},
          "output_type": "execute_result"
        }
      ],
      "source": [
        "model = \"https://tfhub.dev/google/nnlm-en-dim128/2\"\n",
        "hub_layer = hub.KerasLayer(model, input_shape=[], dtype=tf.string, trainable=True)\n",
        "hub_layer(train_examples[:3])"
      ]
    },
    {
      "cell_type": "code",
      "execution_count": 7,
      "metadata": {
        "colab": {
          "base_uri": "https://localhost:8080/"
        },
        "id": "TEvcyy4unfPy",
        "outputId": "7bb0278a-5b8f-4145-b8a2-5b6f05d07a1f"
      },
      "outputs": [
        {
          "name": "stdout",
          "output_type": "stream",
          "text": [
            "Model: \"sequential\"\n",
            "_________________________________________________________________\n",
            " Layer (type)                Output Shape              Param #   \n",
            "=================================================================\n",
            " keras_layer (KerasLayer)    (None, 128)               124642688 \n",
            "                                                                 \n",
            " dense (Dense)               (None, 16)                2064      \n",
            "                                                                 \n",
            " dense_1 (Dense)             (None, 1)                 17        \n",
            "                                                                 \n",
            "=================================================================\n",
            "Total params: 124,644,769\n",
            "Trainable params: 124,644,769\n",
            "Non-trainable params: 0\n",
            "_________________________________________________________________\n"
          ]
        }
      ],
      "source": [
        "model = tf.keras.Sequential()\n",
        "model.add(hub_layer)\n",
        "model.add(tf.keras.layers.Dense(16, activation='relu'))\n",
        "model.add(tf.keras.layers.Dense(1))\n",
        "\n",
        "model.summary()"
      ]
    },
    {
      "cell_type": "code",
      "execution_count": 8,
      "metadata": {
        "id": "zjgSVsg1nfPz"
      },
      "outputs": [],
      "source": [
        "model.compile(optimizer='adam',\n",
        "              loss=tf.losses.BinaryCrossentropy(from_logits=False),\n",
        "              metrics=[tf.metrics.BinaryAccuracy(threshold=0.0, name='accuracy')])"
      ]
    },
    {
      "cell_type": "code",
      "execution_count": 9,
      "metadata": {
        "colab": {
          "base_uri": "https://localhost:8080/"
        },
        "id": "fw1X1flZnfPz",
        "outputId": "172e83ba-2c33-40eb-c718-1c5c15f453ae"
      },
      "outputs": [
        {
          "name": "stdout",
          "output_type": "stream",
          "text": [
            "Epoch 1/40\n",
            "75/75 [==============================] - 81s 1s/step - loss: 1.1686 - accuracy: 0.8040 - val_loss: 0.3882 - val_accuracy: 0.8404\n",
            "Epoch 2/40\n",
            "75/75 [==============================] - 76s 1s/step - loss: 0.3248 - accuracy: 0.8385 - val_loss: 0.3764 - val_accuracy: 0.8424\n",
            "Epoch 3/40\n",
            "75/75 [==============================] - 78s 1s/step - loss: 0.2612 - accuracy: 0.8428 - val_loss: 0.4332 - val_accuracy: 0.8433\n",
            "Epoch 4/40\n",
            "75/75 [==============================] - 90s 1s/step - loss: 0.2269 - accuracy: 0.8469 - val_loss: 0.4803 - val_accuracy: 0.8436\n",
            "Epoch 5/40\n",
            "75/75 [==============================] - 107s 1s/step - loss: 0.2013 - accuracy: 0.8532 - val_loss: 0.5437 - val_accuracy: 0.8448\n"
          ]
        }
      ],
      "source": [
        "history = model.fit(train_examples,\n",
        "                    train_labels,\n",
        "                    epochs=40,\n",
        "                    batch_size=512,\n",
        "                    validation_data=(test_examples, text_labels),\n",
        "                    verbose=1,\n",
        "                    callbacks=[tf.keras.callbacks.EarlyStopping(monitor='val_loss', patience=3)])\n"
      ]
    },
    {
      "cell_type": "code",
      "execution_count": 10,
      "metadata": {
        "colab": {
          "base_uri": "https://localhost:8080/"
        },
        "id": "h7BvvssqnfP0",
        "outputId": "3cdcc767-c9e1-4b39-a93f-80764d6e8a9d"
      },
      "outputs": [
        {
          "data": {
            "text/plain": [
              "dict_keys(['loss', 'accuracy', 'val_loss', 'val_accuracy'])"
            ]
          },
          "execution_count": 10,
          "metadata": {},
          "output_type": "execute_result"
        }
      ],
      "source": [
        "history_dict = history.history\n",
        "history_dict.keys()"
      ]
    },
    {
      "cell_type": "code",
      "execution_count": 11,
      "metadata": {
        "colab": {
          "base_uri": "https://localhost:8080/",
          "height": 295
        },
        "id": "skFgS3aNnfP1",
        "outputId": "a70c7361-f934-47fd-aeb5-0cc9f107f84c"
      },
      "outputs": [
        {
          "data": {
            "image/png": "[encoded data removed]",
            "text/plain": [
              "<Figure size 432x288 with 1 Axes>"
            ]
          },
          "metadata": {
            "needs_background": "light"
          },
          "output_type": "display_data"
        }
      ],
      "source": [
        "acc = history_dict['accuracy']\n",
        "val_acc = history_dict['val_accuracy']\n",
        "loss = history_dict['loss']\n",
        "val_loss = history_dict['val_loss']\n",
        "\n",
        "epochs = range(1, len(acc) + 1)\n",
        "\n",
        "# \"bo\" is for \"blue dot\"\n",
        "plt.plot(epochs, loss, 'bo', label='Training loss')\n",
        "# b is for \"solid blue line\"\n",
        "plt.plot(epochs, val_loss, 'b', label='Validation loss')\n",
        "plt.title('Training and validation loss')\n",
        "plt.xlabel('Epochs')\n",
        "plt.ylabel('Loss')\n",
        "plt.legend()\n",
        "\n",
        "plt.show()"
      ]
    },
    {
      "cell_type": "code",
      "execution_count": 12,
      "metadata": {
        "colab": {
          "base_uri": "https://localhost:8080/",
          "height": 295
        },
        "id": "I0Xxf4AWnfP2",
        "outputId": "7bf2c7ce-083f-41eb-eaff-88a344c81e60"
      },
      "outputs": [
        {
          "data": {
            "image/png": "[encoded data removed]",
            "text/plain": [
              "<Figure size 432x288 with 1 Axes>"
            ]
          },
          "metadata": {
            "needs_background": "light"
          },
          "output_type": "display_data"
        }
      ],
      "source": [
        "plt.clf()   # clear figure\n",
        "\n",
        "plt.plot(epochs, acc, 'bo', label='Training acc')\n",
        "plt.plot(epochs, val_acc, 'b', label='Validation acc')\n",
        "plt.title('Training and validation accuracy')\n",
        "plt.xlabel('Epochs')\n",
        "plt.ylabel('Accuracy')\n",
        "plt.legend()\n",
        "\n",
        "plt.show()"
      ]
    },
    {
      "cell_type": "code",
      "execution_count": 13,
      "metadata": {
        "colab": {
          "base_uri": "https://localhost:8080/"
        },
        "id": "j-yDqTjtnfP2",
        "outputId": "c7da631c-dac0-43cb-ebe8-e9e650c7aef7"
      },
      "outputs": [
        {
          "data": {
            "text/plain": [
              "array([[0.08550298],\n",
              "       [0.9728286 ]], dtype=float32)"
            ]
          },
          "execution_count": 13,
          "metadata": {},
          "output_type": "execute_result"
        }
      ],
      "source": [
        "model.predict(np.array([\"In other words #katandandre, your food was crapilicious! #mkr\", \"Why is #aussietv so white? #MKR #theblock #ImACelebrityAU #today #sunrise #studio10 #Neighbours #WonderlandTen #etc\"]))"
      ]
    },
    {
      "cell_type": "code",
      "execution_count": 14,
      "metadata": {
        "colab": {
          "base_uri": "https://localhost:8080/"
        },
        "id": "QHrdg2CrnfP2",
        "outputId": "09bfac31-7902-4e17-f6d2-6f64dcf1e1c2"
      },
      "outputs": [
        {
          "data": {
            "text/plain": [
              "array([[1.1878074]], dtype=float32)"
            ]
          },
          "execution_count": 14,
          "metadata": {},
          "output_type": "execute_result"
        }
      ],
      "source": [
        "model.predict(np.array([\"@herneythegreat http://twitpic.com/hpovu - Its sad to see that they are racist against it and saying nigger... wow... DUMB FUCKS\"]))"
      ]
    },
    {
      "cell_type": "code",
      "execution_count": 15,
      "metadata": {
        "colab": {
          "base_uri": "https://localhost:8080/"
        },
        "id": "VRjt6OxinfP3",
        "outputId": "e94ab493-10e5-41f5-c825-fe596c92e002"
      },
      "outputs": [
        {
          "name": "stdout",
          "output_type": "stream",
          "text": [
            "prediction for 'sup': [[0.10612997]]\n"
          ]
        }
      ],
      "source": [
        "text = input(\"Input a text to test the model \")\n",
        "print(f\"prediction for '{text}':\", model.predict(np.array([text])))"
      ]
    },
    {
      "cell_type": "code",
      "execution_count": 5,
      "metadata": {
        "id": "JDzkSxYJvXJP"
      },
      "outputs": [],
      "source": [
        "model.save('cyberbullyingClassificationModel.h5')"
      ]
    },
    {
      "cell_type": "code",
      "execution_count": 7,
      "metadata": {},
      "outputs": [
        {
          "data": {
            "text/plain": [
              "<keras.engine.sequential.Sequential at 0x1963fb08a60>"
            ]
          },
          "execution_count": 7,
          "metadata": {},
          "output_type": "execute_result"
        }
      ],
      "source": [
        "newModel = tf.keras.models.load_model('cyberbullyingClassificationModel.h5', custom_objects={'KerasLayer':hub.KerasLayer})\n",
        "newModel.summary()"
      ]
    },
    {
      "cell_type": "code",
      "execution_count": null,
      "metadata": {},
      "outputs": [],
      "source": []
    }
  ],
  "metadata": {
    "colab": {
      "name": "main.ipynb",
      "provenance": []
    },
    "interpreter": {
      "hash": "57cb7d1d7deec3840e7774cd30b7727f817b4d911913cb2085f9ebeb2e773d28"
    },
    "kernelspec": {
      "display_name": "Python 3.9.4 64-bit",
      "language": "python",
      "name": "python3"
    },
    "language_info": {
      "codemirror_mode": {
        "name": "ipython",
        "version": 3
      },
      "file_extension": ".py",
      "mimetype": "text/x-python",
      "name": "python",
      "nbconvert_exporter": "python",
      "pygments_lexer": "ipython3",
      "version": "3.9.4"
    },
    "orig_nbformat": 4
  },
  "nbformat": 4,
  "nbformat_minor": 0
}
